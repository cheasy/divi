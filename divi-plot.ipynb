{
 "cells": [
  {
   "cell_type": "markdown",
   "metadata": {},
   "source": [
    "# DIVI-Plot\n",
    "Plots the DIVI Intesivregister data\n",
    "## Imports, Definitions"
   ]
  },
  {
   "cell_type": "code",
   "execution_count": 10,
   "metadata": {},
   "outputs": [
    {
     "name": "stderr",
     "output_type": "stream",
     "text": [
      "/var/folders/ml/f8ks5wwh8xl5mj008k91f9nr0000gq/T/ipykernel_22155/4256746670.py:12: DeprecationWarning: parsing timezone aware datetimes is deprecated; this will raise an error in the future\n",
      "  EPOCH = np.datetime64('1970-01-01T00:00:00Z')\n"
     ]
    }
   ],
   "source": [
    "import sys\n",
    "import csv\n",
    "import matplotlib.pyplot as plt\n",
    "import numpy as np\n",
    "\n",
    "dataFile = \"/Users/cs/Desktop/Covid-Grafiken/DIVI-Rohdaten/zeitreihe-tagesdaten.csv\"\n",
    "gemeindeschlüssel = ['06434']\n",
    "\n",
    "debugTable = False\n",
    "printTable = False\n",
    "\n",
    "EPOCH = np.datetime64('1970-01-01T00:00:00Z')\n",
    "ONE_SECOND = np.timedelta64(1, 's')"
   ]
  },
  {
   "cell_type": "markdown",
   "metadata": {},
   "source": [
    "## Open DIVI CSV File"
   ]
  },
  {
   "cell_type": "code",
   "execution_count": 13,
   "metadata": {},
   "outputs": [],
   "source": [
    "\n",
    "with open(dataFile) as csvFile:\n",
    "    try:\n",
    "        dialect = csv.Sniffer().sniff(csvFile.read(1024*8), delimiters=',\\t')\n",
    "        if debugTable:\n",
    "            print( 'delimiter:        ' + repr( dialect.delimiter.encode() ) )\n",
    "            print( 'doublequote:      ' + repr( dialect.doublequote ) )\n",
    "            if dialect.escapechar:\n",
    "                print( 'escapechar:      ' + repr( dialect.escapechar.encode() ) )\n",
    "            else:\n",
    "                print( 'escapechar:       None')\n",
    "            print( 'lineterminator:   ' + repr( dialect.lineterminator.encode() ) )\n",
    "            print( 'quotechar:        ' + repr( dialect.quotechar ) )\n",
    "            print( 'quoting:          ' + repr( dialect.quoting ) )\n",
    "            print( 'skipinitialspace: ' + repr( dialect.skipinitialspace ) )\n",
    "\n",
    "        csvFile.seek(0) # let's start over with this file, sniffing above already read some bytes\n",
    "        dataReader = csv.reader(csvFile, dialect)\n",
    "\n",
    "        if printTable:\n",
    "            for row in dataReader:\n",
    "                print( row )\n",
    "        \n",
    "        # convFunc = lambda d: ( np.datetime64(d) - EPOCH ) / np.timedelta64(1, 's')\n",
    "        convFunc = lambda d: (np.datetime64(d) - EPOCH) / ONE_SECOND\n",
    "        divi = np.genfromtxt(csvFile, delimiter=',', names=True, converters={0: convFunc})\n",
    "\n",
    "    except csv.Error as e:\n",
    "        sys.exit('file {}, {}'.format(dataFile, e))\n",
    "    \n"
   ]
  },
  {
   "cell_type": "markdown",
   "metadata": {},
   "source": [
    "## File Structure\n",
    "### csv contents\n",
    "All values seem to escaped as string charactes\n",
    "| date | bundesland | gemeindeschl. | Standorte | Meldebereiche | n COVID | n COVID intensiv | Betten frei | … belegt | nur Erw. | frei nur Erw. |\n",
    "|:---:|:---:|:---:|:---:|:---:|:---:|:---:|:---:|:---:|:---:|:---:|\n",
    "| [0] | [1] | [2] | [3] | [4] | [5] | [6] | [7] | [8] | [9] | [10] |\n",
    "| '2020-04-24' | '06' | '06434' | '3' | '3' | '5' | '2' | '4' | '28' | '28' | '4' |\n",
    "| '2020-04-25' | '06' | '06434' | '3' | '3' | '5' | '2' | '4' | '27' | '27' | '4' |\n",
    "| '2020-04-26' | '06' | '06434' | '3' | '3' | '5' | '2' | '4' | '27' | '27' | '4' |\n",
    "| <small>```divi_date[]```</small>    | --   | <small>```divi_gschl[]```</small> | --  | --  | <small>```divi_n_covid[]```</small> | <small>```divi_n_intens[]```</small> | <small>```divi_beds_free[]```</small> | <small>```divi_beds_occ[]```</small> | --  | --  |\n"
   ]
  },
  {
   "cell_type": "markdown",
   "metadata": {},
   "source": [
    "\n",
    "## Plot Data\n"
   ]
  },
  {
   "cell_type": "code",
   "execution_count": 12,
   "metadata": {},
   "outputs": [
    {
     "ename": "TypeError",
     "evalue": "bar() missing 2 required positional arguments: 'x' and 'height'",
     "output_type": "error",
     "traceback": [
      "\u001b[0;31m---------------------------------------------------------------------------\u001b[0m",
      "\u001b[0;31mTypeError\u001b[0m                                 Traceback (most recent call last)",
      "\u001b[0;32m/var/folders/ml/f8ks5wwh8xl5mj008k91f9nr0000gq/T/ipykernel_22155/147070090.py\u001b[0m in \u001b[0;36m<module>\u001b[0;34m\u001b[0m\n\u001b[1;32m      3\u001b[0m \u001b[0mfig\u001b[0m\u001b[0;34m,\u001b[0m \u001b[0max\u001b[0m \u001b[0;34m=\u001b[0m \u001b[0mplt\u001b[0m\u001b[0;34m.\u001b[0m\u001b[0msubplots\u001b[0m\u001b[0;34m(\u001b[0m\u001b[0;34m)\u001b[0m\u001b[0;34m\u001b[0m\u001b[0;34m\u001b[0m\u001b[0m\n\u001b[1;32m      4\u001b[0m \u001b[0;34m\u001b[0m\u001b[0m\n\u001b[0;32m----> 5\u001b[0;31m \u001b[0mp1\u001b[0m \u001b[0;34m=\u001b[0m \u001b[0max\u001b[0m\u001b[0;34m.\u001b[0m\u001b[0mbar\u001b[0m\u001b[0;34m(\u001b[0m\u001b[0;34m)\u001b[0m\u001b[0;34m\u001b[0m\u001b[0;34m\u001b[0m\u001b[0m\n\u001b[0m",
      "\u001b[0;32m~/miniconda3/lib/python3.9/site-packages/matplotlib/__init__.py\u001b[0m in \u001b[0;36minner\u001b[0;34m(ax, data, *args, **kwargs)\u001b[0m\n\u001b[1;32m   1410\u001b[0m     \u001b[0;32mdef\u001b[0m \u001b[0minner\u001b[0m\u001b[0;34m(\u001b[0m\u001b[0max\u001b[0m\u001b[0;34m,\u001b[0m \u001b[0;34m*\u001b[0m\u001b[0margs\u001b[0m\u001b[0;34m,\u001b[0m \u001b[0mdata\u001b[0m\u001b[0;34m=\u001b[0m\u001b[0;32mNone\u001b[0m\u001b[0;34m,\u001b[0m \u001b[0;34m**\u001b[0m\u001b[0mkwargs\u001b[0m\u001b[0;34m)\u001b[0m\u001b[0;34m:\u001b[0m\u001b[0;34m\u001b[0m\u001b[0;34m\u001b[0m\u001b[0m\n\u001b[1;32m   1411\u001b[0m         \u001b[0;32mif\u001b[0m \u001b[0mdata\u001b[0m \u001b[0;32mis\u001b[0m \u001b[0;32mNone\u001b[0m\u001b[0;34m:\u001b[0m\u001b[0;34m\u001b[0m\u001b[0;34m\u001b[0m\u001b[0m\n\u001b[0;32m-> 1412\u001b[0;31m             \u001b[0;32mreturn\u001b[0m \u001b[0mfunc\u001b[0m\u001b[0;34m(\u001b[0m\u001b[0max\u001b[0m\u001b[0;34m,\u001b[0m \u001b[0;34m*\u001b[0m\u001b[0mmap\u001b[0m\u001b[0;34m(\u001b[0m\u001b[0msanitize_sequence\u001b[0m\u001b[0;34m,\u001b[0m \u001b[0margs\u001b[0m\u001b[0;34m)\u001b[0m\u001b[0;34m,\u001b[0m \u001b[0;34m**\u001b[0m\u001b[0mkwargs\u001b[0m\u001b[0;34m)\u001b[0m\u001b[0;34m\u001b[0m\u001b[0;34m\u001b[0m\u001b[0m\n\u001b[0m\u001b[1;32m   1413\u001b[0m \u001b[0;34m\u001b[0m\u001b[0m\n\u001b[1;32m   1414\u001b[0m         \u001b[0mbound\u001b[0m \u001b[0;34m=\u001b[0m \u001b[0mnew_sig\u001b[0m\u001b[0;34m.\u001b[0m\u001b[0mbind\u001b[0m\u001b[0;34m(\u001b[0m\u001b[0max\u001b[0m\u001b[0;34m,\u001b[0m \u001b[0;34m*\u001b[0m\u001b[0margs\u001b[0m\u001b[0;34m,\u001b[0m \u001b[0;34m**\u001b[0m\u001b[0mkwargs\u001b[0m\u001b[0;34m)\u001b[0m\u001b[0;34m\u001b[0m\u001b[0;34m\u001b[0m\u001b[0m\n",
      "\u001b[0;31mTypeError\u001b[0m: bar() missing 2 required positional arguments: 'x' and 'height'"
     ]
    },
    {
     "data": {
      "image/png": "[encoded data removed]",
      "text/plain": [
       "<Figure size 432x288 with 1 Axes>"
      ]
     },
     "metadata": {
      "needs_background": "light"
     },
     "output_type": "display_data"
    }
   ],
   "source": [
    "labels = [ 'Datum', 'Gemeinde', 'Covid-Fälle', '…auf Intensiv', 'Betten frei', '… belegt']\n",
    "\n",
    "fig, ax = plt.subplots()\n",
    "\n",
    "p1 = ax.bar()"
   ]
  }
 ],
 "metadata": {
  "interpreter": {
   "hash": "aee8b7b246df8f9039afb4144a1f6fd8d2ca17a180786b69acc140d282b71a49"
  },
  "kernelspec": {
   "display_name": "Python 3.9.9 64-bit",
   "language": "python",
   "name": "python3"
  },
  "language_info": {
   "codemirror_mode": {
    "name": "ipython",
    "version": 3
   },
   "file_extension": ".py",
   "mimetype": "text/x-python",
   "name": "python",
   "nbconvert_exporter": "python",
   "pygments_lexer": "ipython3",
   "version": "3.9.5"
  },
  "orig_nbformat": 4
 },
 "nbformat": 4,
 "nbformat_minor": 2
}
