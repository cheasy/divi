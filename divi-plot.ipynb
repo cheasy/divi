{
 "cells": [
  {
   "cell_type": "markdown",
   "metadata": {},
   "source": [
    "# DIVI-Plot\n",
    "Plots the DIVI Intesivregister data\n",
    "## Imports, Definitions"
   ]
  },
  {
   "cell_type": "code",
   "execution_count": 18,
   "metadata": {},
   "outputs": [],
   "source": [
    "from sys import exit\n",
    "import csv\n",
    "import matplotlib.pyplot as plt\n",
    "import pandas as pd\n",
    "import datetime as dt\n",
    "\n",
    "\n",
    "dataFile = \"/Users/cs/Desktop/Covid-Grafiken/DIVI-Rohdaten/zeitreihe-tagesdaten.csv\"\n",
    "gemeindeschlüssel = [6434]\n",
    "\n",
    "debugTable = True\n",
    "printTable = False\n",
    "\n",
    "# EPOCH = np.datetime64('1970-01-01T00:00:00Z')\n",
    "# ONE_SECOND = np.timedelta64(1, 's')\n",
    "\n",
    "HOCHTAUNUSKREIS = [6434]"
   ]
  },
  {
   "cell_type": "markdown",
   "metadata": {},
   "source": [
    "## Open DIVI CSV File"
   ]
  },
  {
   "cell_type": "code",
   "execution_count": 16,
   "metadata": {},
   "outputs": [
    {
     "name": "stdout",
     "output_type": "stream",
     "text": [
      "delimiter:        b','\n",
      "doublequote:      False\n",
      "escapechar:       None\n",
      "lineterminator:   b'\\r\\n'\n",
      "quotechar:        '\"'\n",
      "quoting:          0\n",
      "skipinitialspace: False\n"
     ]
    }
   ],
   "source": [
    "\n",
    "with open(dataFile) as csvFile:\n",
    "    try:\n",
    "        dialect = csv.Sniffer().sniff(csvFile.read(1024*8), delimiters=',\\t')\n",
    "        if debugTable:\n",
    "            print( 'delimiter:        ' + repr( dialect.delimiter.encode() ) )\n",
    "            print( 'doublequote:      ' + repr( dialect.doublequote ) )\n",
    "            if dialect.escapechar:\n",
    "                print( 'escapechar:      ' + repr( dialect.escapechar.encode() ) )\n",
    "            else:\n",
    "                print( 'escapechar:       None')\n",
    "            print( 'lineterminator:   ' + repr( dialect.lineterminator.encode() ) )\n",
    "            print( 'quotechar:        ' + repr( dialect.quotechar ) )\n",
    "            print( 'quoting:          ' + repr( dialect.quoting ) )\n",
    "            print( 'skipinitialspace: ' + repr( dialect.skipinitialspace ) )\n",
    "\n",
    "        csvFile.seek(0) # let's start over with this file, sniffing above already read some bytes\n",
    "        dataReader = csv.reader(csvFile, dialect)\n",
    "\n",
    "        if printTable:\n",
    "            for row in dataReader:\n",
    "                print( row )\n",
    "        \n",
    "        # convFunc = lambda d: ( np.datetime64(d) - EPOCH ) / np.timedelta64(1, 's')\n",
    "        convFunc = lambda d: (np.datetime64(d) - EPOCH) / ONE_SECOND\n",
    "        divi = np.genfromtxt(csvFile, delimiter=',', names=True, converters={0: convFunc},\n",
    "                                dtype=[ ('datum','f8'),\n",
    "                                        ('bundesland','u2'),\n",
    "                                        ('gemeindeschl','u4'),\n",
    "                                        ('standorte','u2'),\n",
    "                                        ('meldebereiche','u4'),\n",
    "                                        ('nCOV', 'u4'),\n",
    "                                        ('nIntensiv', 'u4'),\n",
    "                                        ('bettenFrei','u4'),\n",
    "                                        ('bettenbelegt','u4'),\n",
    "                                        ('erwbettenfrei','u4'),\n",
    "                                        ('erwbettbelegt','u4')])\n",
    "\n",
    "    except csv.Error as e:\n",
    "        exit('file {}, {}'.format(dataFile, e))"
   ]
  },
  {
   "cell_type": "markdown",
   "metadata": {},
   "source": [
    "## File Structure\n",
    "### csv contents\n",
    "All values seem to escaped as string charactes\n",
    "| date | bundesland | gemeindeschl. | Standorte | Meldebereiche | n COVID | n COVID intensiv | Betten frei | … belegt | nur Erw. | frei nur Erw. |\n",
    "|:---:|:---:|:---:|:---:|:---:|:---:|:---:|:---:|:---:|:---:|:---:|\n",
    "| [0] | [1] | [2] | [3] | [4] | [5] | [6] | [7] | [8] | [9] | [10] |\n",
    "| '2020-04-24' | '06' | '06434' | '3' | '3' | '5' | '2' | '4' | '28' | '28' | '4' |\n",
    "| '2020-04-25' | '06' | '06434' | '3' | '3' | '5' | '2' | '4' | '27' | '27' | '4' |\n",
    "| '2020-04-26' | '06' | '06434' | '3' | '3' | '5' | '2' | '4' | '27' | '27' | '4' |\n",
    "| <small>```divi_date[]```</small>    | --   | <small>```divi_gschl[]```</small> | --  | --  | <small>```divi_n_covid[]```</small> | <small>```divi_n_intens[]```</small> | <small>```divi_beds_free[]```</small> | <small>```divi_beds_occ[]```</small> | --  | --  |\n"
   ]
  },
  {
   "cell_type": "markdown",
   "metadata": {},
   "source": [
    "# Filter Only Interesting Rows"
   ]
  },
  {
   "cell_type": "code",
   "execution_count": 11,
   "metadata": {},
   "outputs": [
    {
     "name": "stdout",
     "output_type": "stream",
     "text": [
      "datetime.date(2021, 12, 5)\n",
      "datetime.datetime(2022, 1, 4, 19, 50, 26, 363304)\n",
      "1641322226.363304\n",
      "00:00:00\n",
      "1638658800.0\n"
     ]
    },
    {
     "ename": "ValueError",
     "evalue": "Could not convert object to NumPy datetime",
     "output_type": "error",
     "traceback": [
      "\u001b[0;31m---------------------------------------------------------------------------\u001b[0m",
      "\u001b[0;31mValueError\u001b[0m                                Traceback (most recent call last)",
      "\u001b[0;32m/var/folders/ml/f8ks5wwh8xl5mj008k91f9nr0000gq/T/ipykernel_69560/769102752.py\u001b[0m in \u001b[0;36m<module>\u001b[0;34m\u001b[0m\n\u001b[1;32m     14\u001b[0m \u001b[0mprint\u001b[0m\u001b[0;34m(\u001b[0m\u001b[0mrepr\u001b[0m\u001b[0;34m(\u001b[0m\u001b[0mdeng\u001b[0m\u001b[0;34m)\u001b[0m\u001b[0;34m)\u001b[0m\u001b[0;34m\u001b[0m\u001b[0;34m\u001b[0m\u001b[0m\n\u001b[1;32m     15\u001b[0m \u001b[0;34m\u001b[0m\u001b[0m\n\u001b[0;32m---> 16\u001b[0;31m \u001b[0mding\u001b[0m \u001b[0;34m=\u001b[0m \u001b[0mnp\u001b[0m\u001b[0;34m.\u001b[0m\u001b[0masarray\u001b[0m\u001b[0;34m(\u001b[0m\u001b[0mdeng\u001b[0m\u001b[0;34m,\u001b[0m \u001b[0mdtype\u001b[0m\u001b[0;34m=\u001b[0m\u001b[0;34m'datetime64[ns]'\u001b[0m\u001b[0;34m)\u001b[0m\u001b[0;34m\u001b[0m\u001b[0;34m\u001b[0m\u001b[0m\n\u001b[0m\u001b[1;32m     17\u001b[0m \u001b[0mprint\u001b[0m\u001b[0;34m(\u001b[0m\u001b[0mrepr\u001b[0m\u001b[0;34m(\u001b[0m\u001b[0mding\u001b[0m\u001b[0;34m)\u001b[0m\u001b[0;34m)\u001b[0m\u001b[0;34m\u001b[0m\u001b[0;34m\u001b[0m\u001b[0m\n",
      "\u001b[0;31mValueError\u001b[0m: Could not convert object to NumPy datetime"
     ]
    }
   ],
   "source": [
    "dang = dt.date.today() - dt.timedelta(days=30)\n",
    "print(repr(dang))\n",
    "\n",
    "now = dt.datetime.now()\n",
    "print(repr(now))\n",
    "\n",
    "timestamp = dt.datetime.timestamp( now )\n",
    "print(repr(timestamp))\n",
    "\n",
    "print(dt.datetime.min.time())\n",
    "\n",
    "\n",
    "deng = dt.datetime.timestamp( dt.datetime.combine( dang, dt.datetime.min.time() ) )\n",
    "print(repr(deng))\n",
    "\n",
    "ding = np.asarray(deng, dtype='datetime64[ns]')\n",
    "print(repr(ding))"
   ]
  },
  {
   "cell_type": "markdown",
   "metadata": {},
   "source": [
    "\n",
    "## Plot Data\n"
   ]
  },
  {
   "cell_type": "code",
   "execution_count": 42,
   "metadata": {},
   "outputs": [
    {
     "ename": "ValueError",
     "evalue": "no field of name nIntensiv",
     "output_type": "error",
     "traceback": [
      "\u001b[0;31m---------------------------------------------------------------------------\u001b[0m",
      "\u001b[0;31mValueError\u001b[0m                                Traceback (most recent call last)",
      "\u001b[0;32m/var/folders/ml/f8ks5wwh8xl5mj008k91f9nr0000gq/T/ipykernel_22155/1861671685.py\u001b[0m in \u001b[0;36m<module>\u001b[0;34m\u001b[0m\n\u001b[1;32m      4\u001b[0m \u001b[0;34m\u001b[0m\u001b[0m\n\u001b[1;32m      5\u001b[0m \u001b[0mp1\u001b[0m \u001b[0;34m=\u001b[0m \u001b[0max\u001b[0m\u001b[0;34m.\u001b[0m\u001b[0mbar\u001b[0m\u001b[0;34m(\u001b[0m\u001b[0mdivi\u001b[0m\u001b[0;34m[\u001b[0m\u001b[0;34m'date'\u001b[0m\u001b[0;34m]\u001b[0m\u001b[0;34m,\u001b[0m \u001b[0mdivi\u001b[0m\u001b[0;34m[\u001b[0m\u001b[0;34m'faelle_covid_aktuell_invasiv_beatmet'\u001b[0m\u001b[0;34m]\u001b[0m\u001b[0;34m,\u001b[0m \u001b[0;36m0.8\u001b[0m\u001b[0;34m,\u001b[0m \u001b[0mlabel\u001b[0m\u001b[0;34m=\u001b[0m\u001b[0;34m'Intensivstation'\u001b[0m\u001b[0;34m)\u001b[0m\u001b[0;34m\u001b[0m\u001b[0;34m\u001b[0m\u001b[0m\n\u001b[0;32m----> 6\u001b[0;31m \u001b[0mp2\u001b[0m \u001b[0;34m=\u001b[0m \u001b[0max\u001b[0m\u001b[0;34m.\u001b[0m\u001b[0mbar\u001b[0m\u001b[0;34m(\u001b[0m\u001b[0mdivi\u001b[0m\u001b[0;34m[\u001b[0m\u001b[0;34m'date'\u001b[0m\u001b[0;34m]\u001b[0m\u001b[0;34m,\u001b[0m \u001b[0mdivi\u001b[0m\u001b[0;34m[\u001b[0m\u001b[0;34m'faelle_covid_aktuell'\u001b[0m\u001b[0;34m]\u001b[0m\u001b[0;34m,\u001b[0m \u001b[0;36m0.8\u001b[0m\u001b[0;34m,\u001b[0m \u001b[0mbottom\u001b[0m\u001b[0;34m=\u001b[0m\u001b[0mdivi\u001b[0m\u001b[0;34m[\u001b[0m\u001b[0;34m'nIntensiv'\u001b[0m\u001b[0;34m]\u001b[0m\u001b[0;34m,\u001b[0m \u001b[0mlabel\u001b[0m\u001b[0;34m=\u001b[0m\u001b[0;34m'Covid-Fälle'\u001b[0m\u001b[0;34m)\u001b[0m\u001b[0;34m\u001b[0m\u001b[0;34m\u001b[0m\u001b[0m\n\u001b[0m\u001b[1;32m      7\u001b[0m \u001b[0;34m\u001b[0m\u001b[0m\n\u001b[1;32m      8\u001b[0m \u001b[0mplt\u001b[0m\u001b[0;34m.\u001b[0m\u001b[0mshow\u001b[0m\u001b[0;34m(\u001b[0m\u001b[0;34m)\u001b[0m\u001b[0;34m\u001b[0m\u001b[0;34m\u001b[0m\u001b[0m\n",
      "\u001b[0;31mValueError\u001b[0m: no field of name nIntensiv"
     ]
    },
    {
     "data": {
      "image/png": "[encoded data removed]",
      "text/plain": [
       "<Figure size 432x288 with 1 Axes>"
      ]
     },
     "metadata": {
      "needs_background": "light"
     },
     "output_type": "display_data"
    }
   ],
   "source": [
    "labels = [ 'Datum', 'Gemeinde', 'Covid-Fälle', '…auf Intensiv', 'Betten frei', '… belegt']\n",
    "\n",
    "fig, ax = plt.subplots()\n",
    "\n",
    "p1 = ax.bar(divi['date'], divi['faelle_covid_aktuell_invasiv_beatmet'], 0.8, label='Intensivstation')\n",
    "p2 = ax.bar(divi['date'], divi['faelle_covid_aktuell'], 0.8, bottom=divi['nIntensiv'], label='Covid-Fälle')\n",
    "\n",
    "plt.show()\n"
   ]
  }
 ],
 "metadata": {
  "interpreter": {
   "hash": "aee8b7b246df8f9039afb4144a1f6fd8d2ca17a180786b69acc140d282b71a49"
  },
  "kernelspec": {
   "display_name": "Python 3.9.9 64-bit",
   "language": "python",
   "name": "python3"
  },
  "language_info": {
   "codemirror_mode": {
    "name": "ipython",
    "version": 3
   },
   "file_extension": ".py",
   "mimetype": "text/x-python",
   "name": "python",
   "nbconvert_exporter": "python",
   "pygments_lexer": "ipython3",
   "version": "3.9.5"
  },
  "orig_nbformat": 4
 },
 "nbformat": 4,
 "nbformat_minor": 2
}
