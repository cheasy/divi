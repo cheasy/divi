{
 "cells": [
  {
   "cell_type": "markdown",
   "metadata": {},
   "source": [
    "# DIVI-Plot\n",
    "Plots the DIVI Intesivregister data\n",
    "## Imports, Definitions"
   ]
  },
  {
   "cell_type": "code",
   "execution_count": 57,
   "metadata": {},
   "outputs": [],
   "source": [
    "from sys import exit\n",
    "import matplotlib.pyplot as plt\n",
    "import numpy as np\n",
    "import pandas as pd\n",
    "\n",
    "plt.close(\"all\")\n",
    "\n",
    "dataFile = \"/Users/cs/Desktop/Covid-Grafiken/DIVI-Rohdaten/zeitreihe-tagesdaten.csv\"\n",
    "\n",
    "HOCHTAUNUSKREIS = 6434\n",
    "GEMEINDEN = [HOCHTAUNUSKREIS]\n",
    "\n",
    "debugTable = True\n",
    "\n",
    "HOCHTANUSKREIS = 6434\n",
    "GEMEINDEN = [HOCHTANUSKREIS]"
   ]
  },
  {
   "cell_type": "markdown",
   "metadata": {},
   "source": [
    "## Open DIVI CSV File"
   ]
  },
  {
   "cell_type": "code",
   "execution_count": 58,
   "metadata": {},
   "outputs": [
    {
     "name": "stdout",
     "output_type": "stream",
     "text": [
      "<class 'pandas.core.frame.DataFrame'>\n",
      "RangeIndex: 241598 entries, 0 to 241597\n",
      "Data columns (total 11 columns):\n",
      " #   Column                                Non-Null Count   Dtype         \n",
      "---  ------                                --------------   -----         \n",
      " 0   date                                  241598 non-null  datetime64[ns]\n",
      " 1   bundesland                            241598 non-null  int64         \n",
      " 2   gemeindeschluessel                    241598 non-null  int64         \n",
      " 3   anzahl_standorte                      241598 non-null  int64         \n",
      " 4   anzahl_meldebereiche                  241598 non-null  int64         \n",
      " 5   faelle_covid_aktuell                  241598 non-null  int64         \n",
      " 6   faelle_covid_aktuell_invasiv_beatmet  241598 non-null  int64         \n",
      " 7   betten_frei                           241598 non-null  int64         \n",
      " 8   betten_belegt                         241598 non-null  int64         \n",
      " 9   betten_belegt_nur_erwachsen           241598 non-null  int64         \n",
      " 10  betten_frei_nur_erwachsen             241598 non-null  int64         \n",
      "dtypes: datetime64[ns](1), int64(10)\n",
      "memory usage: 20.3 MB\n"
     ]
    }
   ],
   "source": [
    "\n",
    "divi = pd.read_csv(dataFile, parse_dates=[\"date\"])\n",
    "\n",
    "if debugTable:\n",
    "    divi.info()"
   ]
  },
  {
   "cell_type": "markdown",
   "metadata": {},
   "source": [
    "## File Structure\n",
    "### csv contents\n",
    "\n",
    "Data columns (total 11 columns):\n",
    "\n",
    "| #   | Spalte | Dtype  | Beispiel 1   | Beispiel 2   | Beispiel 3   |\n",
    "|----:|:-------|:-------|:------------:|:------------:|:------------:|\n",
    "|  0  | date   | datetime64[ns] | '2020-04-24' | '2020-04-25' | '2020-04-26' | \n",
    "|  1  | bundesland | int64 | 6 | 6 | 6 |\n",
    "|  2  | gemeindeschluessel | int64 | 6463 | 6463 | 6463 |\n",
    "|  3  | anzahl_standorte   | int64 | 3 | 3 | 3 |\n",
    "|  4  | anzahl_meldebereiche | int64 | 3 | 3 | 3 |\n",
    "|  5  | faelle_covid_aktuell | int64 | 5 | 4 | 6 |\n",
    "|  6  | faelle_covid_aktuell_invasiv_beatmet | int64 | 1 | 1 | 2 |\n",
    "|  7  | betten_frei | int64 | 4| 4 | 3 |\n",
    "|  8  | betten_belegt  | int64 | 28| 27 | 27 |\n",
    "| 10  | betten_belegt_nur_erwachsen  | int64 | 28| 27 | 27 |\n",
    "|  9  | betten_frei_nur_erwachsen | int64 | 4| 4 | 3 "
   ]
  },
  {
   "cell_type": "markdown",
   "metadata": {},
   "source": [
    "# Filter Only Interesting Rows"
   ]
  },
  {
   "cell_type": "code",
   "execution_count": 77,
   "metadata": {},
   "outputs": [],
   "source": [
    "toPlot = divi[divi[\"gemeindeschluessel\"].isin(GEMEINDEN) & (divi[\"date\"] > pd.to_datetime('2021-03-01'))]"
   ]
  },
  {
   "cell_type": "markdown",
   "metadata": {},
   "source": [
    "\n",
    "## Plot Data\n"
   ]
  },
  {
   "cell_type": "code",
   "execution_count": 87,
   "metadata": {},
   "outputs": [
    {
     "data": {
      "image/png": "[encoded data removed]",
      "text/plain": [
       "<Figure size 1152x576 with 1 Axes>"
      ]
     },
     "metadata": {
      "needs_background": "light"
     },
     "output_type": "display_data"
    }
   ],
   "source": [
    "plt.rcParams[\"figure.figsize\"] = (16,8)\n",
    "\n",
    "fig, ax = plt.subplots()\n",
    "\n",
    "p3 = ax.bar(toPlot['date'], toPlot['betten_belegt'], 1.0, label='Belegte Betten', color = 'blue')\n",
    "p4 = ax.bar(toPlot['date'], toPlot['betten_frei'], 1.0, bottom=toPlot['betten_belegt'], label='Betten frei', color = 'green')\n",
    "\n",
    "p1 = ax.bar(toPlot['date'], toPlot['faelle_covid_aktuell_invasiv_beatmet'], 1.0, label='Intensivstation', color = 'red')\n",
    "p2 = ax.bar(toPlot['date'], toPlot['faelle_covid_aktuell'], 1.0, bottom=toPlot['faelle_covid_aktuell_invasiv_beatmet'], label='Covid-Fälle', color = 'orange')\n",
    "\n",
    "leg = ax.legend(loc='lower center', frameon=True)\n",
    "\n",
    "plt.show()\n"
   ]
  }
 ],
 "metadata": {
  "interpreter": {
   "hash": "aee8b7b246df8f9039afb4144a1f6fd8d2ca17a180786b69acc140d282b71a49"
  },
  "kernelspec": {
   "display_name": "Python 3.9.9 64-bit",
   "language": "python",
   "name": "python3"
  },
  "language_info": {
   "codemirror_mode": {
    "name": "ipython",
    "version": 3
   },
   "file_extension": ".py",
   "mimetype": "text/x-python",
   "name": "python",
   "nbconvert_exporter": "python",
   "pygments_lexer": "ipython3",
   "version": "3.9.5"
  },
  "orig_nbformat": 4
 },
 "nbformat": 4,
 "nbformat_minor": 2
}
